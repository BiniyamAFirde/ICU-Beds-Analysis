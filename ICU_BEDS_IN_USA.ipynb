{
  "nbformat": 4,
  "nbformat_minor": 0,
  "metadata": {
    "colab": {
      "provenance": [],
      "authorship_tag": "ABX9TyNG7g2eyjdPbVn1f/qiHpWb",
      "include_colab_link": true
    },
    "kernelspec": {
      "name": "python3",
      "display_name": "Python 3"
    },
    "language_info": {
      "name": "python"
    }
  },
  "cells": [
    {
      "cell_type": "markdown",
      "metadata": {
        "id": "view-in-github",
        "colab_type": "text"
      },
      "source": [
        "<a href=\"https://colab.research.google.com/github/BiniyamAFirde/ICU-Beds-Analysis/blob/main/ICU_BEDS_IN_USA.ipynb\" target=\"_parent\"><img src=\"https://colab.research.google.com/assets/colab-badge.svg\" alt=\"Open In Colab\"/></a>"
      ]
    },
    {
      "cell_type": "code",
      "execution_count": 3,
      "metadata": {
        "id": "m9QoZ7gze7Db"
      },
      "outputs": [],
      "source": [
        "import pandas as pd"
      ]
    },
    {
      "cell_type": "code",
      "source": [
        "df=pd.read_csv('/content/hospital_beds_USA_v1.csv')"
      ],
      "metadata": {
        "id": "di2wRhD-j0v3"
      },
      "execution_count": 4,
      "outputs": []
    },
    {
      "cell_type": "code",
      "source": [
        "df.shape"
      ],
      "metadata": {
        "colab": {
          "base_uri": "https://localhost:8080/"
        },
        "id": "nZactGZ5j7Uw",
        "outputId": "fea06641-7d76-4c54-fc62-e8f186345f35"
      },
      "execution_count": 5,
      "outputs": [
        {
          "output_type": "execute_result",
          "data": {
            "text/plain": [
              "(5713, 12)"
            ]
          },
          "metadata": {},
          "execution_count": 5
        }
      ]
    },
    {
      "cell_type": "code",
      "source": [
        "df.head()"
      ],
      "metadata": {
        "colab": {
          "base_uri": "https://localhost:8080/",
          "height": 261
        },
        "id": "GYa4uhJkj9z9",
        "outputId": "97f0382a-fa70-4685-ec03-62e251583011"
      },
      "execution_count": 6,
      "outputs": [
        {
          "output_type": "execute_result",
          "data": {
            "text/plain": [
              "  country state          county        lat         lng   type  measure  \\\n",
              "0      US    AK  aleutians east  63.588753 -154.493062    ICU  1000HAB   \n",
              "1      US    AK  aleutians west  63.588753 -154.493062    ICU  1000HAB   \n",
              "2      US    AK       anchorage  63.588753 -154.493062  ACUTE  1000HAB   \n",
              "3      US    AK       anchorage  63.588753 -154.493062    ICU  1000HAB   \n",
              "4      US    AK       anchorage  63.588753 -154.493062  OTHER  1000HAB   \n",
              "\n",
              "       beds  population  year  source  \\\n",
              "0  0.000000        3338  2019     khn   \n",
              "1  0.000000        5784  2019     khn   \n",
              "2  2.182916      298225  2018  arcgis   \n",
              "3  0.244782      298225  2019     khn   \n",
              "4  0.191131      298225  2019  arcgis   \n",
              "\n",
              "                                          source_url  \n",
              "0  https://khn.org/news/as-coronavirus-spreads-wi...  \n",
              "1  https://khn.org/news/as-coronavirus-spreads-wi...  \n",
              "2  https://services1.arcgis.com/Hp6G80Pky0om7QvQ/...  \n",
              "3  https://khn.org/news/as-coronavirus-spreads-wi...  \n",
              "4  https://services1.arcgis.com/Hp6G80Pky0om7QvQ/...  "
            ],
            "text/html": [
              "\n",
              "  <div id=\"df-9e5a112d-288d-4d17-8ce1-1fde6479336d\" class=\"colab-df-container\">\n",
              "    <div>\n",
              "<style scoped>\n",
              "    .dataframe tbody tr th:only-of-type {\n",
              "        vertical-align: middle;\n",
              "    }\n",
              "\n",
              "    .dataframe tbody tr th {\n",
              "        vertical-align: top;\n",
              "    }\n",
              "\n",
              "    .dataframe thead th {\n",
              "        text-align: right;\n",
              "    }\n",
              "</style>\n",
              "<table border=\"1\" class=\"dataframe\">\n",
              "  <thead>\n",
              "    <tr style=\"text-align: right;\">\n",
              "      <th></th>\n",
              "      <th>country</th>\n",
              "      <th>state</th>\n",
              "      <th>county</th>\n",
              "      <th>lat</th>\n",
              "      <th>lng</th>\n",
              "      <th>type</th>\n",
              "      <th>measure</th>\n",
              "      <th>beds</th>\n",
              "      <th>population</th>\n",
              "      <th>year</th>\n",
              "      <th>source</th>\n",
              "      <th>source_url</th>\n",
              "    </tr>\n",
              "  </thead>\n",
              "  <tbody>\n",
              "    <tr>\n",
              "      <th>0</th>\n",
              "      <td>US</td>\n",
              "      <td>AK</td>\n",
              "      <td>aleutians east</td>\n",
              "      <td>63.588753</td>\n",
              "      <td>-154.493062</td>\n",
              "      <td>ICU</td>\n",
              "      <td>1000HAB</td>\n",
              "      <td>0.000000</td>\n",
              "      <td>3338</td>\n",
              "      <td>2019</td>\n",
              "      <td>khn</td>\n",
              "      <td>https://khn.org/news/as-coronavirus-spreads-wi...</td>\n",
              "    </tr>\n",
              "    <tr>\n",
              "      <th>1</th>\n",
              "      <td>US</td>\n",
              "      <td>AK</td>\n",
              "      <td>aleutians west</td>\n",
              "      <td>63.588753</td>\n",
              "      <td>-154.493062</td>\n",
              "      <td>ICU</td>\n",
              "      <td>1000HAB</td>\n",
              "      <td>0.000000</td>\n",
              "      <td>5784</td>\n",
              "      <td>2019</td>\n",
              "      <td>khn</td>\n",
              "      <td>https://khn.org/news/as-coronavirus-spreads-wi...</td>\n",
              "    </tr>\n",
              "    <tr>\n",
              "      <th>2</th>\n",
              "      <td>US</td>\n",
              "      <td>AK</td>\n",
              "      <td>anchorage</td>\n",
              "      <td>63.588753</td>\n",
              "      <td>-154.493062</td>\n",
              "      <td>ACUTE</td>\n",
              "      <td>1000HAB</td>\n",
              "      <td>2.182916</td>\n",
              "      <td>298225</td>\n",
              "      <td>2018</td>\n",
              "      <td>arcgis</td>\n",
              "      <td>https://services1.arcgis.com/Hp6G80Pky0om7QvQ/...</td>\n",
              "    </tr>\n",
              "    <tr>\n",
              "      <th>3</th>\n",
              "      <td>US</td>\n",
              "      <td>AK</td>\n",
              "      <td>anchorage</td>\n",
              "      <td>63.588753</td>\n",
              "      <td>-154.493062</td>\n",
              "      <td>ICU</td>\n",
              "      <td>1000HAB</td>\n",
              "      <td>0.244782</td>\n",
              "      <td>298225</td>\n",
              "      <td>2019</td>\n",
              "      <td>khn</td>\n",
              "      <td>https://khn.org/news/as-coronavirus-spreads-wi...</td>\n",
              "    </tr>\n",
              "    <tr>\n",
              "      <th>4</th>\n",
              "      <td>US</td>\n",
              "      <td>AK</td>\n",
              "      <td>anchorage</td>\n",
              "      <td>63.588753</td>\n",
              "      <td>-154.493062</td>\n",
              "      <td>OTHER</td>\n",
              "      <td>1000HAB</td>\n",
              "      <td>0.191131</td>\n",
              "      <td>298225</td>\n",
              "      <td>2019</td>\n",
              "      <td>arcgis</td>\n",
              "      <td>https://services1.arcgis.com/Hp6G80Pky0om7QvQ/...</td>\n",
              "    </tr>\n",
              "  </tbody>\n",
              "</table>\n",
              "</div>\n",
              "    <div class=\"colab-df-buttons\">\n",
              "\n",
              "  <div class=\"colab-df-container\">\n",
              "    <button class=\"colab-df-convert\" onclick=\"convertToInteractive('df-9e5a112d-288d-4d17-8ce1-1fde6479336d')\"\n",
              "            title=\"Convert this dataframe to an interactive table.\"\n",
              "            style=\"display:none;\">\n",
              "\n",
              "  <svg xmlns=\"http://www.w3.org/2000/svg\" height=\"24px\" viewBox=\"0 -960 960 960\">\n",
              "    <path d=\"M120-120v-720h720v720H120Zm60-500h600v-160H180v160Zm220 220h160v-160H400v160Zm0 220h160v-160H400v160ZM180-400h160v-160H180v160Zm440 0h160v-160H620v160ZM180-180h160v-160H180v160Zm440 0h160v-160H620v160Z\"/>\n",
              "  </svg>\n",
              "    </button>\n",
              "\n",
              "  <style>\n",
              "    .colab-df-container {\n",
              "      display:flex;\n",
              "      gap: 12px;\n",
              "    }\n",
              "\n",
              "    .colab-df-convert {\n",
              "      background-color: #E8F0FE;\n",
              "      border: none;\n",
              "      border-radius: 50%;\n",
              "      cursor: pointer;\n",
              "      display: none;\n",
              "      fill: #1967D2;\n",
              "      height: 32px;\n",
              "      padding: 0 0 0 0;\n",
              "      width: 32px;\n",
              "    }\n",
              "\n",
              "    .colab-df-convert:hover {\n",
              "      background-color: #E2EBFA;\n",
              "      box-shadow: 0px 1px 2px rgba(60, 64, 67, 0.3), 0px 1px 3px 1px rgba(60, 64, 67, 0.15);\n",
              "      fill: #174EA6;\n",
              "    }\n",
              "\n",
              "    .colab-df-buttons div {\n",
              "      margin-bottom: 4px;\n",
              "    }\n",
              "\n",
              "    [theme=dark] .colab-df-convert {\n",
              "      background-color: #3B4455;\n",
              "      fill: #D2E3FC;\n",
              "    }\n",
              "\n",
              "    [theme=dark] .colab-df-convert:hover {\n",
              "      background-color: #434B5C;\n",
              "      box-shadow: 0px 1px 3px 1px rgba(0, 0, 0, 0.15);\n",
              "      filter: drop-shadow(0px 1px 2px rgba(0, 0, 0, 0.3));\n",
              "      fill: #FFFFFF;\n",
              "    }\n",
              "  </style>\n",
              "\n",
              "    <script>\n",
              "      const buttonEl =\n",
              "        document.querySelector('#df-9e5a112d-288d-4d17-8ce1-1fde6479336d button.colab-df-convert');\n",
              "      buttonEl.style.display =\n",
              "        google.colab.kernel.accessAllowed ? 'block' : 'none';\n",
              "\n",
              "      async function convertToInteractive(key) {\n",
              "        const element = document.querySelector('#df-9e5a112d-288d-4d17-8ce1-1fde6479336d');\n",
              "        const dataTable =\n",
              "          await google.colab.kernel.invokeFunction('convertToInteractive',\n",
              "                                                    [key], {});\n",
              "        if (!dataTable) return;\n",
              "\n",
              "        const docLinkHtml = 'Like what you see? Visit the ' +\n",
              "          '<a target=\"_blank\" href=https://colab.research.google.com/notebooks/data_table.ipynb>data table notebook</a>'\n",
              "          + ' to learn more about interactive tables.';\n",
              "        element.innerHTML = '';\n",
              "        dataTable['output_type'] = 'display_data';\n",
              "        await google.colab.output.renderOutput(dataTable, element);\n",
              "        const docLink = document.createElement('div');\n",
              "        docLink.innerHTML = docLinkHtml;\n",
              "        element.appendChild(docLink);\n",
              "      }\n",
              "    </script>\n",
              "  </div>\n",
              "\n",
              "\n",
              "<div id=\"df-ddbb9aea-ddf9-4bab-8f9e-9a8f0ceb7533\">\n",
              "  <button class=\"colab-df-quickchart\" onclick=\"quickchart('df-ddbb9aea-ddf9-4bab-8f9e-9a8f0ceb7533')\"\n",
              "            title=\"Suggest charts\"\n",
              "            style=\"display:none;\">\n",
              "\n",
              "<svg xmlns=\"http://www.w3.org/2000/svg\" height=\"24px\"viewBox=\"0 0 24 24\"\n",
              "     width=\"24px\">\n",
              "    <g>\n",
              "        <path d=\"M19 3H5c-1.1 0-2 .9-2 2v14c0 1.1.9 2 2 2h14c1.1 0 2-.9 2-2V5c0-1.1-.9-2-2-2zM9 17H7v-7h2v7zm4 0h-2V7h2v10zm4 0h-2v-4h2v4z\"/>\n",
              "    </g>\n",
              "</svg>\n",
              "  </button>\n",
              "\n",
              "<style>\n",
              "  .colab-df-quickchart {\n",
              "      --bg-color: #E8F0FE;\n",
              "      --fill-color: #1967D2;\n",
              "      --hover-bg-color: #E2EBFA;\n",
              "      --hover-fill-color: #174EA6;\n",
              "      --disabled-fill-color: #AAA;\n",
              "      --disabled-bg-color: #DDD;\n",
              "  }\n",
              "\n",
              "  [theme=dark] .colab-df-quickchart {\n",
              "      --bg-color: #3B4455;\n",
              "      --fill-color: #D2E3FC;\n",
              "      --hover-bg-color: #434B5C;\n",
              "      --hover-fill-color: #FFFFFF;\n",
              "      --disabled-bg-color: #3B4455;\n",
              "      --disabled-fill-color: #666;\n",
              "  }\n",
              "\n",
              "  .colab-df-quickchart {\n",
              "    background-color: var(--bg-color);\n",
              "    border: none;\n",
              "    border-radius: 50%;\n",
              "    cursor: pointer;\n",
              "    display: none;\n",
              "    fill: var(--fill-color);\n",
              "    height: 32px;\n",
              "    padding: 0;\n",
              "    width: 32px;\n",
              "  }\n",
              "\n",
              "  .colab-df-quickchart:hover {\n",
              "    background-color: var(--hover-bg-color);\n",
              "    box-shadow: 0 1px 2px rgba(60, 64, 67, 0.3), 0 1px 3px 1px rgba(60, 64, 67, 0.15);\n",
              "    fill: var(--button-hover-fill-color);\n",
              "  }\n",
              "\n",
              "  .colab-df-quickchart-complete:disabled,\n",
              "  .colab-df-quickchart-complete:disabled:hover {\n",
              "    background-color: var(--disabled-bg-color);\n",
              "    fill: var(--disabled-fill-color);\n",
              "    box-shadow: none;\n",
              "  }\n",
              "\n",
              "  .colab-df-spinner {\n",
              "    border: 2px solid var(--fill-color);\n",
              "    border-color: transparent;\n",
              "    border-bottom-color: var(--fill-color);\n",
              "    animation:\n",
              "      spin 1s steps(1) infinite;\n",
              "  }\n",
              "\n",
              "  @keyframes spin {\n",
              "    0% {\n",
              "      border-color: transparent;\n",
              "      border-bottom-color: var(--fill-color);\n",
              "      border-left-color: var(--fill-color);\n",
              "    }\n",
              "    20% {\n",
              "      border-color: transparent;\n",
              "      border-left-color: var(--fill-color);\n",
              "      border-top-color: var(--fill-color);\n",
              "    }\n",
              "    30% {\n",
              "      border-color: transparent;\n",
              "      border-left-color: var(--fill-color);\n",
              "      border-top-color: var(--fill-color);\n",
              "      border-right-color: var(--fill-color);\n",
              "    }\n",
              "    40% {\n",
              "      border-color: transparent;\n",
              "      border-right-color: var(--fill-color);\n",
              "      border-top-color: var(--fill-color);\n",
              "    }\n",
              "    60% {\n",
              "      border-color: transparent;\n",
              "      border-right-color: var(--fill-color);\n",
              "    }\n",
              "    80% {\n",
              "      border-color: transparent;\n",
              "      border-right-color: var(--fill-color);\n",
              "      border-bottom-color: var(--fill-color);\n",
              "    }\n",
              "    90% {\n",
              "      border-color: transparent;\n",
              "      border-bottom-color: var(--fill-color);\n",
              "    }\n",
              "  }\n",
              "</style>\n",
              "\n",
              "  <script>\n",
              "    async function quickchart(key) {\n",
              "      const quickchartButtonEl =\n",
              "        document.querySelector('#' + key + ' button');\n",
              "      quickchartButtonEl.disabled = true;  // To prevent multiple clicks.\n",
              "      quickchartButtonEl.classList.add('colab-df-spinner');\n",
              "      try {\n",
              "        const charts = await google.colab.kernel.invokeFunction(\n",
              "            'suggestCharts', [key], {});\n",
              "      } catch (error) {\n",
              "        console.error('Error during call to suggestCharts:', error);\n",
              "      }\n",
              "      quickchartButtonEl.classList.remove('colab-df-spinner');\n",
              "      quickchartButtonEl.classList.add('colab-df-quickchart-complete');\n",
              "    }\n",
              "    (() => {\n",
              "      let quickchartButtonEl =\n",
              "        document.querySelector('#df-ddbb9aea-ddf9-4bab-8f9e-9a8f0ceb7533 button');\n",
              "      quickchartButtonEl.style.display =\n",
              "        google.colab.kernel.accessAllowed ? 'block' : 'none';\n",
              "    })();\n",
              "  </script>\n",
              "</div>\n",
              "\n",
              "    </div>\n",
              "  </div>\n"
            ],
            "application/vnd.google.colaboratory.intrinsic+json": {
              "type": "dataframe",
              "variable_name": "df",
              "summary": "{\n  \"name\": \"df\",\n  \"rows\": 5713,\n  \"fields\": [\n    {\n      \"column\": \"country\",\n      \"properties\": {\n        \"dtype\": \"category\",\n        \"num_unique_values\": 1,\n        \"samples\": [\n          \"US\"\n        ],\n        \"semantic_type\": \"\",\n        \"description\": \"\"\n      }\n    },\n    {\n      \"column\": \"state\",\n      \"properties\": {\n        \"dtype\": \"category\",\n        \"num_unique_values\": 51,\n        \"samples\": [\n          \"TX\"\n        ],\n        \"semantic_type\": \"\",\n        \"description\": \"\"\n      }\n    },\n    {\n      \"column\": \"county\",\n      \"properties\": {\n        \"dtype\": \"category\",\n        \"num_unique_values\": 1850,\n        \"samples\": [\n          \"cheyenne\"\n        ],\n        \"semantic_type\": \"\",\n        \"description\": \"\"\n      }\n    },\n    {\n      \"column\": \"lat\",\n      \"properties\": {\n        \"dtype\": \"number\",\n        \"std\": 5.362104836896445,\n        \"min\": 19.898682,\n        \"max\": 63.588753,\n        \"num_unique_values\": 51,\n        \"samples\": [\n          31.968599\n        ],\n        \"semantic_type\": \"\",\n        \"description\": \"\"\n      }\n    },\n    {\n      \"column\": \"lng\",\n      \"properties\": {\n        \"dtype\": \"number\",\n        \"std\": 13.230439224335186,\n        \"min\": -155.665857,\n        \"max\": -69.445469,\n        \"num_unique_values\": 44,\n        \"samples\": [\n          -86.580447\n        ],\n        \"semantic_type\": \"\",\n        \"description\": \"\"\n      }\n    },\n    {\n      \"column\": \"type\",\n      \"properties\": {\n        \"dtype\": \"category\",\n        \"num_unique_values\": 4,\n        \"samples\": [\n          \"ACUTE\"\n        ],\n        \"semantic_type\": \"\",\n        \"description\": \"\"\n      }\n    },\n    {\n      \"column\": \"measure\",\n      \"properties\": {\n        \"dtype\": \"category\",\n        \"num_unique_values\": 1,\n        \"samples\": [\n          \"1000HAB\"\n        ],\n        \"semantic_type\": \"\",\n        \"description\": \"\"\n      }\n    },\n    {\n      \"column\": \"beds\",\n      \"properties\": {\n        \"dtype\": \"number\",\n        \"std\": 3.1018177583516358,\n        \"min\": 0.0,\n        \"max\": 90.466352,\n        \"num_unique_values\": 4667,\n        \"samples\": [\n          1.407736\n        ],\n        \"semantic_type\": \"\",\n        \"description\": \"\"\n      }\n    },\n    {\n      \"column\": \"population\",\n      \"properties\": {\n        \"dtype\": \"number\",\n        \"std\": 462437,\n        \"min\": 74,\n        \"max\": 10105722,\n        \"num_unique_values\": 3099,\n        \"samples\": [\n          21980\n        ],\n        \"semantic_type\": \"\",\n        \"description\": \"\"\n      }\n    },\n    {\n      \"column\": \"year\",\n      \"properties\": {\n        \"dtype\": \"number\",\n        \"std\": 0,\n        \"min\": 2012,\n        \"max\": 2020,\n        \"num_unique_values\": 9,\n        \"samples\": [\n          2020\n        ],\n        \"semantic_type\": \"\",\n        \"description\": \"\"\n      }\n    },\n    {\n      \"column\": \"source\",\n      \"properties\": {\n        \"dtype\": \"category\",\n        \"num_unique_values\": 2,\n        \"samples\": [\n          \"arcgis\"\n        ],\n        \"semantic_type\": \"\",\n        \"description\": \"\"\n      }\n    },\n    {\n      \"column\": \"source_url\",\n      \"properties\": {\n        \"dtype\": \"category\",\n        \"num_unique_values\": 2,\n        \"samples\": [\n          \"https://services1.arcgis.com/Hp6G80Pky0om7QvQ/arcgis/rest/services/Hospitals_1/FeatureServer/0\"\n        ],\n        \"semantic_type\": \"\",\n        \"description\": \"\"\n      }\n    }\n  ]\n}"
            }
          },
          "metadata": {},
          "execution_count": 6
        }
      ]
    },
    {
      "cell_type": "markdown",
      "source": [
        "Checking if there is a missing value"
      ],
      "metadata": {
        "id": "A8Lvtf8TA09j"
      }
    },
    {
      "cell_type": "code",
      "source": [
        "df.isnull().sum().sum()  # Total missing values across all columns\n"
      ],
      "metadata": {
        "colab": {
          "base_uri": "https://localhost:8080/"
        },
        "id": "MXIetagBn90R",
        "outputId": "7ad03dd7-12cb-424a-adf2-509bb41378da"
      },
      "execution_count": 9,
      "outputs": [
        {
          "output_type": "execute_result",
          "data": {
            "text/plain": [
              "0"
            ]
          },
          "metadata": {},
          "execution_count": 9
        }
      ]
    },
    {
      "cell_type": "code",
      "source": [
        "# Step 1: Load Libraries\n",
        "import pandas as pd\n",
        "import numpy as np\n",
        "import matplotlib.pyplot as plt\n",
        "import seaborn as sns"
      ],
      "metadata": {
        "id": "sSWrisMDAzwW"
      },
      "execution_count": 11,
      "outputs": []
    },
    {
      "cell_type": "code",
      "source": [
        "#  Data Cleaning\n",
        "# Drop \"country\" column (all US)\n",
        "df = df.drop(columns=['country'])"
      ],
      "metadata": {
        "id": "XbdUvqF_NH0r"
      },
      "execution_count": 12,
      "outputs": []
    },
    {
      "cell_type": "code",
      "source": [
        "# Rename columns for consistency (lowercase)\n",
        "df.columns = [col.lower() for col in df.columns]"
      ],
      "metadata": {
        "id": "uNFoRFJFNPjE"
      },
      "execution_count": 13,
      "outputs": []
    },
    {
      "cell_type": "code",
      "source": [
        "# Filter only ICU beds data\n",
        "df = df[df['type'] == 'ICU']"
      ],
      "metadata": {
        "id": "gqX6nDjLNSlJ"
      },
      "execution_count": 14,
      "outputs": []
    },
    {
      "cell_type": "code",
      "source": [
        "# Handle missing beds data (replace NaN with 0)\n",
        "df['beds'] = df['beds'].fillna(0)"
      ],
      "metadata": {
        "id": "j2SQFiGcNZMD"
      },
      "execution_count": 15,
      "outputs": []
    },
    {
      "cell_type": "code",
      "source": [
        "# Convert beds per 1000 inhabitants to absolute ICU beds\n",
        "df['absolute_beds'] = (df['beds'] * df['population']) / 1000"
      ],
      "metadata": {
        "id": "dmhZPzodNaUy"
      },
      "execution_count": 16,
      "outputs": []
    },
    {
      "cell_type": "code",
      "source": [
        "# Step 4: Feature Engineering\n",
        "# ICU Beds per Capita\n",
        "df['icu_beds_per_capita'] = df['absolute_beds'] / df['population']\n",
        "\n",
        "# Population density weight (optional if you have area data - if not, assume all weight=1)\n",
        "df['population_density_weight'] = 1  # Adjust if you have actual density data per county\n",
        "\n",
        "# Ventilator Demand Index (VDI)\n",
        "df['vdi'] = (1 / df['icu_beds_per_capita']) * df['population_density_weight']\n",
        "\n",
        "# Shortage Risk Flag\n",
        "def classify_risk(row):\n",
        "    beds_per_person = row['icu_beds_per_capita']\n",
        "    if beds_per_person > 1/2000:\n",
        "        return 'Low Risk'\n",
        "    elif beds_per_person > 1/5000:\n",
        "        return 'Moderate Risk'\n",
        "    else:\n",
        "        return 'High Risk'\n",
        "\n",
        "df['shortage_risk'] = df.apply(classify_risk, axis=1)"
      ],
      "metadata": {
        "id": "Po228IYhNd2W"
      },
      "execution_count": 17,
      "outputs": []
    },
    {
      "cell_type": "code",
      "source": [
        "# Step 5: Exploratory Data Analysis (EDA)\n",
        "# Top 10 Counties with Highest ICU Shortage Risk (High Risk)\n",
        "high_risk = df[df['shortage_risk'] == 'High Risk']\n",
        "top_10_high_risk = high_risk.sort_values('vdi', ascending=False).head(10)\n",
        "\n",
        "print(\"Top 10 High Risk Counties:\")\n",
        "print(top_10_high_risk[['state', 'county', 'vdi', 'absolute_beds', 'population']])\n",
        "\n",
        "# ICU Beds per Capita by State (bar plot)\n",
        "state_avg_beds = df.groupby('state')['icu_beds_per_capita'].mean().sort_values()\n",
        "\n",
        "plt.figure(figsize=(12, 6))\n",
        "state_avg_beds.plot(kind='bar', color='skyblue')\n",
        "plt.title('Average ICU Beds per Capita by State')\n",
        "plt.ylabel('ICU Beds per Capita')\n",
        "plt.xticks(rotation=90)\n",
        "plt.grid(axis='y', linestyle='--', alpha=0.7)\n",
        "plt.show()\n",
        "\n",
        "# Map Visualization (Scatterplot with color = risk level)\n",
        "plt.figure(figsize=(12, 8))\n",
        "colors = {'Low Risk':'green', 'Moderate Risk':'orange', 'High Risk':'red'}\n",
        "\n",
        "plt.scatter(df['lng'], df['lat'], c=df['shortage_risk'].map(colors), alpha=0.6)\n",
        "plt.title('ICU Shortage Risk Across US Counties')\n",
        "plt.xlabel('Longitude')\n",
        "plt.ylabel('Latitude')\n",
        "plt.grid(True)\n",
        "plt.show()"
      ],
      "metadata": {
        "colab": {
          "base_uri": "https://localhost:8080/",
          "height": 1000
        },
        "id": "xAgnspsJNkU8",
        "outputId": "393cd3b3-53b3-4c7e-d8dd-a7e44374fafe"
      },
      "execution_count": 18,
      "outputs": [
        {
          "output_type": "stream",
          "name": "stdout",
          "text": [
            "Top 10 High Risk Counties:\n",
            "     state          county  vdi  absolute_beds  population\n",
            "0       AK  aleutians east  inf            0.0        3338\n",
            "3338    NE            loup  inf            0.0         537\n",
            "3404    NH        sullivan  inf            0.0       43073\n",
            "3379    NE         wheeler  inf            0.0         846\n",
            "3372    NE          thomas  inf            0.0         643\n",
            "3370    NE         stanton  inf            0.0        6020\n",
            "3369    NE           sioux  inf            0.0        1256\n",
            "3368    NE         sherman  inf            0.0        3048\n",
            "3342    NE       mcpherson  inf            0.0         432\n",
            "3337    NE           logan  inf            0.0         919\n"
          ]
        },
        {
          "output_type": "display_data",
          "data": {
            "text/plain": [
              "<Figure size 1200x600 with 1 Axes>"
            ],
            "image/png": "[encoded data removed]"
          },
          "metadata": {}
        },
        {
          "output_type": "display_data",
          "data": {
            "text/plain": [
              "<Figure size 1200x800 with 1 Axes>"
            ],
            "image/png": "[encoded data removed]"
          },
          "metadata": {}
        }
      ]
    },
    {
      "cell_type": "code",
      "source": [
        "# Optional: Save Cleaned Data for Tableau\n",
        "df.to_csv('cleaned_icu_beds_data.csv', index=False)\n",
        "\n",
        "# Summary Stats for README\n",
        "print(\"\\nSummary Statistics for ICU Beds per Capita:\")\n",
        "print(df['icu_beds_per_capita'].describe())\n",
        "\n",
        "print(\"\\nCount of Counties by Risk Level:\")\n",
        "print(df['shortage_risk'].value_counts())"
      ],
      "metadata": {
        "colab": {
          "base_uri": "https://localhost:8080/"
        },
        "id": "gzL4lQAIN2yS",
        "outputId": "4895014d-2828-4362-c7ff-14ff0561aea2"
      },
      "execution_count": 19,
      "outputs": [
        {
          "output_type": "stream",
          "name": "stdout",
          "text": [
            "\n",
            "Summary Statistics for ICU Beds per Capita:\n",
            "count    3142.000000\n",
            "mean        0.000921\n",
            "std         0.002253\n",
            "min         0.000000\n",
            "25%         0.000000\n",
            "50%         0.000197\n",
            "75%         0.000707\n",
            "max         0.030201\n",
            "Name: icu_beds_per_capita, dtype: float64\n",
            "\n",
            "Count of Counties by Risk Level:\n",
            "shortage_risk\n",
            "High Risk        1585\n",
            "Low Risk          904\n",
            "Moderate Risk     653\n",
            "Name: count, dtype: int64\n"
          ]
        }
      ]
    }
  ]
}